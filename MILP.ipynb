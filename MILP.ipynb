{
 "cells": [
  {
   "cell_type": "code",
   "execution_count": 1,
   "id": "de418de8",
   "metadata": {},
   "outputs": [],
   "source": [
    "from pyomo.environ import *\n",
    "import random\n",
    "import pandas as pd"
   ]
  },
  {
   "cell_type": "code",
   "execution_count": 16,
   "id": "21a5f705",
   "metadata": {},
   "outputs": [
    {
     "data": {
      "text/html": [
       "<div>\n",
       "<style scoped>\n",
       "    .dataframe tbody tr th:only-of-type {\n",
       "        vertical-align: middle;\n",
       "    }\n",
       "\n",
       "    .dataframe tbody tr th {\n",
       "        vertical-align: top;\n",
       "    }\n",
       "\n",
       "    .dataframe thead th {\n",
       "        text-align: right;\n",
       "    }\n",
       "</style>\n",
       "<table border=\"1\" class=\"dataframe\">\n",
       "  <thead>\n",
       "    <tr style=\"text-align: right;\">\n",
       "      <th></th>\n",
       "      <th>GR</th>\n",
       "      <th>Entrada</th>\n",
       "      <th>Parcela</th>\n",
       "      <th>Valor_Proposta</th>\n",
       "      <th>Inadimplencia</th>\n",
       "    </tr>\n",
       "  </thead>\n",
       "  <tbody>\n",
       "    <tr>\n",
       "      <th>0</th>\n",
       "      <td>A</td>\n",
       "      <td>50</td>\n",
       "      <td>12</td>\n",
       "      <td>42071</td>\n",
       "      <td>0.001767</td>\n",
       "    </tr>\n",
       "    <tr>\n",
       "      <th>1</th>\n",
       "      <td>A</td>\n",
       "      <td>50</td>\n",
       "      <td>24</td>\n",
       "      <td>39829</td>\n",
       "      <td>0.005357</td>\n",
       "    </tr>\n",
       "    <tr>\n",
       "      <th>2</th>\n",
       "      <td>A</td>\n",
       "      <td>50</td>\n",
       "      <td>36</td>\n",
       "      <td>24569</td>\n",
       "      <td>0.019939</td>\n",
       "    </tr>\n",
       "    <tr>\n",
       "      <th>3</th>\n",
       "      <td>A</td>\n",
       "      <td>50</td>\n",
       "      <td>48</td>\n",
       "      <td>36311</td>\n",
       "      <td>0.022628</td>\n",
       "    </tr>\n",
       "    <tr>\n",
       "      <th>4</th>\n",
       "      <td>A</td>\n",
       "      <td>50</td>\n",
       "      <td>60</td>\n",
       "      <td>43397</td>\n",
       "      <td>0.041957</td>\n",
       "    </tr>\n",
       "    <tr>\n",
       "      <th>...</th>\n",
       "      <td>...</td>\n",
       "      <td>...</td>\n",
       "      <td>...</td>\n",
       "      <td>...</td>\n",
       "      <td>...</td>\n",
       "    </tr>\n",
       "    <tr>\n",
       "      <th>120</th>\n",
       "      <td>E</td>\n",
       "      <td>10</td>\n",
       "      <td>12</td>\n",
       "      <td>22814</td>\n",
       "      <td>0.174626</td>\n",
       "    </tr>\n",
       "    <tr>\n",
       "      <th>121</th>\n",
       "      <td>E</td>\n",
       "      <td>10</td>\n",
       "      <td>24</td>\n",
       "      <td>33351</td>\n",
       "      <td>0.125463</td>\n",
       "    </tr>\n",
       "    <tr>\n",
       "      <th>122</th>\n",
       "      <td>E</td>\n",
       "      <td>10</td>\n",
       "      <td>36</td>\n",
       "      <td>36179</td>\n",
       "      <td>0.304202</td>\n",
       "    </tr>\n",
       "    <tr>\n",
       "      <th>123</th>\n",
       "      <td>E</td>\n",
       "      <td>10</td>\n",
       "      <td>48</td>\n",
       "      <td>49671</td>\n",
       "      <td>0.126034</td>\n",
       "    </tr>\n",
       "    <tr>\n",
       "      <th>124</th>\n",
       "      <td>E</td>\n",
       "      <td>10</td>\n",
       "      <td>60</td>\n",
       "      <td>22122</td>\n",
       "      <td>0.992611</td>\n",
       "    </tr>\n",
       "  </tbody>\n",
       "</table>\n",
       "<p>125 rows × 5 columns</p>\n",
       "</div>"
      ],
      "text/plain": [
       "    GR  Entrada  Parcela  Valor_Proposta  Inadimplencia\n",
       "0    A       50       12           42071       0.001767\n",
       "1    A       50       24           39829       0.005357\n",
       "2    A       50       36           24569       0.019939\n",
       "3    A       50       48           36311       0.022628\n",
       "4    A       50       60           43397       0.041957\n",
       "..  ..      ...      ...             ...            ...\n",
       "120  E       10       12           22814       0.174626\n",
       "121  E       10       24           33351       0.125463\n",
       "122  E       10       36           36179       0.304202\n",
       "123  E       10       48           49671       0.126034\n",
       "124  E       10       60           22122       0.992611\n",
       "\n",
       "[125 rows x 5 columns]"
      ]
     },
     "execution_count": 16,
     "metadata": {},
     "output_type": "execute_result"
    }
   ],
   "source": [
    "dados = pd.read_csv(\"dados.csv\", delimiter = \";\", decimal = \",\")\n",
    "dados"
   ]
  },
  {
   "cell_type": "code",
   "execution_count": 4,
   "id": "fc00ef19",
   "metadata": {},
   "outputs": [
    {
     "data": {
      "text/plain": [
       "array(['A', 'B', 'C', 'D', 'E'], dtype=object)"
      ]
     },
     "execution_count": 4,
     "metadata": {},
     "output_type": "execute_result"
    }
   ],
   "source": [
    "dados[\"GR\"].unique()"
   ]
  },
  {
   "cell_type": "code",
   "execution_count": 5,
   "id": "a1a7b974",
   "metadata": {},
   "outputs": [
    {
     "data": {
      "text/plain": [
       "array([12, 24, 36, 48, 60], dtype=int64)"
      ]
     },
     "execution_count": 5,
     "metadata": {},
     "output_type": "execute_result"
    }
   ],
   "source": [
    "dados[\"Parcela\"].unique()"
   ]
  },
  {
   "cell_type": "code",
   "execution_count": 6,
   "id": "0f05425d",
   "metadata": {},
   "outputs": [
    {
     "data": {
      "text/plain": [
       "array([50, 40, 30, 20, 10], dtype=int64)"
      ]
     },
     "execution_count": 6,
     "metadata": {},
     "output_type": "execute_result"
    }
   ],
   "source": [
    "dados[\"Entrada\"].unique()"
   ]
  },
  {
   "cell_type": "code",
   "execution_count": 7,
   "id": "192b73aa",
   "metadata": {},
   "outputs": [],
   "source": [
    "GrupoRisco = dados[\"GR\"].unique() # array(['A', 'B', 'C', 'D', 'E'], dtype=object)\n",
    "Parcelas = dados[\"Parcela\"].unique() # array([12, 24, 36, 48, 60], dtype=int64)\n",
    "Entrada = dados[\"Entrada\"].unique() # array([50, 40, 30, 20, 10], dtype=int64)\n",
    "\n",
    "\n",
    "listGrupoRisco = [i+1 for i in range(len(GrupoRisco))]\n",
    "listParcelas = [i+1 for i in range(len(Parcelas))]\n",
    "listEntrada = [i+1 for i in range(len(Entrada))]\n",
    "\n",
    "deParaGrupoRisco = {GrupoRisco[i]:i+1 for i in range(len(GrupoRisco))}\n",
    "deParaParcelas = {Parcelas[i]:i+1 for i in range(len(Parcelas))}\n",
    "deParaEntrada = {Entrada[i]:i+1 for i in range(len(Entrada))}"
   ]
  },
  {
   "cell_type": "code",
   "execution_count": 9,
   "id": "054799d5",
   "metadata": {},
   "outputs": [],
   "source": [
    "paramValor = {}\n",
    "paramInadimplencia = {}\n",
    "for g in GrupoRisco:\n",
    "    for e in Entrada:\n",
    "        for p in Parcelas:\n",
    "            paramValor[(deParaGrupoRisco[g],deParaEntrada[e],deParaParcelas[p])] = dados.loc[(dados.GR==g)&(dados.Entrada==e)&(dados.Parcela==p)].Valor_Proposta.iloc[0]\n",
    "            paramInadimplencia[(deParaGrupoRisco[g],deParaEntrada[e],deParaParcelas[p])] = dados.loc[(dados.GR==g)&(dados.Entrada==e)&(dados.Parcela==p)].Inadimplencia.iloc[0]"
   ]
  },
  {
   "cell_type": "code",
   "execution_count": 10,
   "id": "b2dd097b",
   "metadata": {},
   "outputs": [],
   "source": [
    "ApetiteRisco = 0.03\n",
    "\n",
    "model = ConcreteModel(name=\"credit\")\n",
    "model.setGrupoRisco = Set(initialize=listGrupoRisco)\n",
    "model.setEntrada = Set(initialize=listEntrada)\n",
    "model.setParcelas = Set(initialize=listParcelas)\n",
    "\n",
    "model.politica = Var(model.setGrupoRisco, model.setEntrada, model.setParcelas, within=Binary, name=\"politica\")"
   ]
  },
  {
   "cell_type": "code",
   "execution_count": 11,
   "id": "7b2b372c",
   "metadata": {},
   "outputs": [],
   "source": [
    "def limiteRisco(model):\n",
    "    return quicksum(((ApetiteRisco - paramInadimplencia[(g,e,p)]) * paramValor[(g,e,p)]) * model.politica[(g, e, p)] \n",
    "             for g in model.setGrupoRisco for e in model.setEntrada for p in model.setParcelas) >= 0\n",
    "\n",
    "model.limiteRisco = Constraint(rule = limiteRisco)"
   ]
  },
  {
   "cell_type": "code",
   "execution_count": 12,
   "id": "70424b6a",
   "metadata": {},
   "outputs": [],
   "source": [
    "model.politicaAbertaGrupoRisco = ConstraintList()\n",
    "for g in model.setGrupoRisco:\n",
    "    for e in model.setEntrada:\n",
    "        for p in model.setParcelas:\n",
    "            if g > 1:\n",
    "                model.politicaAbertaGrupoRisco.add(\n",
    "                    model.politica[(g, e, p)] - model.politica[(g - 1, e, p)] <= 0\n",
    "                )\n",
    "\n",
    "model.politicaAbertaEntrada = ConstraintList()\n",
    "for g in model.setGrupoRisco:\n",
    "    for e in model.setEntrada:\n",
    "        for p in model.setParcelas:\n",
    "            if e > 1:\n",
    "                model.politicaAbertaEntrada.add(\n",
    "                    model.politica[(g, e, p)] - model.politica[(g, e - 1, p)] <= 0\n",
    "                )\n",
    "\n",
    "model.politicaAbertaParcelas = ConstraintList()\n",
    "for g in model.setGrupoRisco:\n",
    "    for e in model.setEntrada:\n",
    "        for p in model.setParcelas:\n",
    "            if p > 1:\n",
    "                model.politicaAbertaParcelas.add(\n",
    "                    model.politica[(g, e, p)] - model.politica[(g, e, p - 1)] <= 0\n",
    "                )\n"
   ]
  },
  {
   "cell_type": "code",
   "execution_count": 13,
   "id": "9ed09fc2",
   "metadata": {},
   "outputs": [],
   "source": [
    "model.Obj = Objective(\n",
    "    expr=sum(paramValor[(g, e, p)] * model.politica[(g, e, p)]\n",
    "             for g in model.setGrupoRisco for e in model.setEntrada for p in model.setParcelas),\n",
    "    sense=maximize\n",
    ")"
   ]
  },
  {
   "cell_type": "code",
   "execution_count": 26,
   "id": "0740a4e1",
   "metadata": {},
   "outputs": [
    {
     "name": "stdout",
     "output_type": "stream",
     "text": [
      "\n",
      "Problem: \n",
      "- Name: x126\n",
      "  Lower bound: 1438109.0\n",
      "  Upper bound: 1438109.0\n",
      "  Number of objectives: 1\n",
      "  Number of constraints: 302\n",
      "  Number of variables: 126\n",
      "  Number of binary variables: 125\n",
      "  Number of integer variables: 125\n",
      "  Number of continuous variables: 1\n",
      "  Number of nonzeros: 726\n",
      "  Sense: maximize\n",
      "Solver: \n",
      "- Status: ok\n",
      "  Return code: 0\n",
      "  Message: Model was solved to optimality (subject to tolerances), and an optimal solution is available.\n",
      "  Termination condition: optimal\n",
      "  Termination message: Model was solved to optimality (subject to tolerances), and an optimal solution is available.\n",
      "  Wall time: 0.016925811767578125\n",
      "  Error rc: 0\n",
      "  Time: 0.15100765228271484\n",
      "Solution: \n",
      "- number of solutions: 0\n",
      "  number of solutions displayed: 0\n",
      "\n"
     ]
    }
   ],
   "source": [
    "#model.write('credit.lp')\n",
    "\n",
    "solver = SolverFactory('gurobi')\n",
    "\n",
    "results = solver.solve(model)\n",
    "print(results)"
   ]
  },
  {
   "cell_type": "code",
   "execution_count": 39,
   "id": "d5c87957",
   "metadata": {
    "scrolled": false
   },
   "outputs": [
    {
     "name": "stdout",
     "output_type": "stream",
     "text": [
      "\n",
      "TOTAL APROVADO:  1438109.0\n",
      "---------------- Políticas\n",
      "Para o Grupo de Risco:  A\n",
      "[ A ][ 12 ]: Entrada Mínima:  10\n",
      "[ A ][ 24 ]: Entrada Mínima:  10\n",
      "[ A ][ 36 ]: Entrada Mínima:  20\n",
      "[ A ][ 48 ]: Entrada Mínima:  20\n",
      "[ A ][ 60 ]: Entrada Mínima:  20\n",
      "Para o Grupo de Risco:  B\n",
      "[ B ][ 12 ]: Entrada Mínima:  10\n",
      "[ B ][ 24 ]: Entrada Mínima:  40\n",
      "[ B ][ 36 ]: Entrada Mínima:  50\n",
      "[ B ][ 48 ]: Entrada Mínima:  50\n",
      "[ B ][ 60 ]: Entrada Mínima:  50\n",
      "Para o Grupo de Risco:  C\n",
      "[ C ][ 12 ]: Entrada Mínima:  20\n",
      "[ C ][ 24 ]: Entrada Mínima:  40\n",
      "[ C ][ 36 ]: Não Opera\n",
      "[ C ][ 48 ]: Não Opera\n",
      "[ C ][ 60 ]: Não Opera\n",
      "Para o Grupo de Risco:  D\n",
      "[ D ][ 12 ]: Entrada Mínima:  30\n",
      "[ D ][ 24 ]: Entrada Mínima:  50\n",
      "[ D ][ 36 ]: Não Opera\n",
      "[ D ][ 48 ]: Não Opera\n",
      "[ D ][ 60 ]: Não Opera\n",
      "Para o Grupo de Risco:  E\n",
      "[ E ][ 12 ]: Entrada Mínima:  30\n",
      "[ E ][ 24 ]: Entrada Mínima:  50\n",
      "[ E ][ 36 ]: Não Opera\n",
      "[ E ][ 48 ]: Não Opera\n",
      "[ E ][ 60 ]: Não Opera\n",
      "Valor Proposta Público Total:  3848176\n",
      "% inad. Público Total:  11.18 %\n",
      "Valor Aprovado Final:  1438109\n",
      "% inad. Público Final:  3.0 %\n",
      "% Valor Aprovado:  37.37 %\n"
     ]
    }
   ],
   "source": [
    "politica = {}\n",
    "print(\"\\nTOTAL APROVADO: \", model.Obj())\n",
    "prod_pot_to\n",
    "\n",
    "tal = 0\n",
    "inad_pot_total = 0\n",
    "prod_final = 0\n",
    "inad_final = 0\n",
    "print(\"---------------- Políticas\")\n",
    "for g in listGrupoRisco:\n",
    "    print(\"Para o Grupo de Risco: \", GrupoRisco[g-1])\n",
    "    if g not in politica: politica[g] = {}\n",
    "    for p in listParcelas:\n",
    "        if p not in politica[g]: politica[g][p] = {}\n",
    "        minEntrada = 100\n",
    "        for e in listEntrada:\n",
    "            prod_pot_total += paramValor[(g, e, p)]\n",
    "            inad_pot_total += paramValor[(g, e, p)] * paramInadimplencia[(g, e, p)]\n",
    "            if value(model.politica[(g, e, p)].value) > 0.99:\n",
    "                #print(\"--- Política ativa para [Grupo de Risco \", GrupoRisco[g-1], \"][Entrada \", Entrada[e-1], \"][Parcela \", Parcelas[p-1], \"]\")\n",
    "                prod_final += paramValor[(g, e, p)]\n",
    "                inad_final += paramValor[(g, e, p)] * paramInadimplencia[(g, e, p)]\n",
    "                minEntrada = Entrada[e-1]\n",
    "        politica[g][p] = minEntrada\n",
    "        if minEntrada < 100: print(\"[\", GrupoRisco[g-1],\"][\", Parcelas[p-1], \"]: Entrada Mínima: \",minEntrada)\n",
    "        else: print(\"[\", GrupoRisco[g-1],\"][\", Parcelas[p-1], \"]: Não Opera\")\n",
    "print(\"Valor Proposta Público Total: \", prod_pot_total)\n",
    "print(\"% inad. Público Total: \", round(inad_pot_total / prod_pot_total*100, 2),\"%\")\n",
    "print(\"Valor Aprovado Final: \", prod_final)\n",
    "print(\"% inad. Público Final: \", round(inad_final / prod_final*100,2),\"%\")\n",
    "print(\"% Valor Aprovado: \", round(prod_final / prod_pot_total*100,2),\"%\")"
   ]
  },
  {
   "cell_type": "code",
   "execution_count": 53,
   "id": "628bf7e4",
   "metadata": {},
   "outputs": [],
   "source": [
    "def modeloOtimizacaoPoliticaCredito(ApetiteRisco):\n",
    "\n",
    "    model = ConcreteModel(name=\"credit\")\n",
    "    model.setGrupoRisco = Set(initialize=listGrupoRisco)\n",
    "    model.setEntrada = Set(initialize=listEntrada)\n",
    "    model.setParcelas = Set(initialize=listParcelas)\n",
    "\n",
    "    model.politica = Var(model.setGrupoRisco, model.setEntrada, model.setParcelas, within=Binary, name=\"politica\")\n",
    "    \n",
    "    def limiteRisco(model):\n",
    "        return quicksum(((ApetiteRisco - paramInadimplencia[(g,e,p)]) * paramValor[(g,e,p)]) * model.politica[(g, e, p)] \n",
    "             for g in model.setGrupoRisco for e in model.setEntrada for p in model.setParcelas) >= 0\n",
    "\n",
    "    model.limiteRisco = Constraint(rule = limiteRisco)\n",
    "    \n",
    "    model.politicaAbertaGrupoRisco = ConstraintList()\n",
    "    for g in model.setGrupoRisco:\n",
    "        for e in model.setEntrada:\n",
    "            for p in model.setParcelas:\n",
    "                if g > 1:\n",
    "                    model.politicaAbertaGrupoRisco.add(\n",
    "                        model.politica[(g, e, p)] - model.politica[(g - 1, e, p)] <= 0\n",
    "                    )\n",
    "\n",
    "    model.politicaAbertaEntrada = ConstraintList()\n",
    "    for g in model.setGrupoRisco:\n",
    "        for e in model.setEntrada:\n",
    "            for p in model.setParcelas:\n",
    "                if e > 1:\n",
    "                    model.politicaAbertaEntrada.add(\n",
    "                        model.politica[(g, e, p)] - model.politica[(g, e - 1, p)] <= 0\n",
    "                    )\n",
    "\n",
    "    model.politicaAbertaParcelas = ConstraintList()\n",
    "    for g in model.setGrupoRisco:\n",
    "        for e in model.setEntrada:\n",
    "            for p in model.setParcelas:\n",
    "                if p > 1:\n",
    "                    model.politicaAbertaParcelas.add(\n",
    "                        model.politica[(g, e, p)] - model.politica[(g, e, p - 1)] <= 0\n",
    "                    )\n",
    "\n",
    "    model.Obj = Objective(\n",
    "        expr=sum(paramValor[(g, e, p)] * model.politica[(g, e, p)]\n",
    "                 for g in model.setGrupoRisco for e in model.setEntrada for p in model.setParcelas),\n",
    "        sense=maximize\n",
    "    )\n",
    "    \n",
    "    solver = SolverFactory('gurobi')\n",
    "\n",
    "    results = solver.solve(model)\n",
    "    \n",
    "    totalAprovado = model.Obj()\n",
    "    \n",
    "    politica = {}\n",
    "    prod_pot_total = 0\n",
    "    inad_pot_total = 0\n",
    "    prod_final = 0\n",
    "    inad_final = 0\n",
    "    for g in listGrupoRisco:\n",
    "        if g not in politica: politica[g] = {}\n",
    "        for p in listParcelas:\n",
    "            if p not in politica[g]: politica[g][p] = {}\n",
    "            minEntrada = 100\n",
    "            for e in listEntrada:\n",
    "                prod_pot_total += paramValor[(g, e, p)]\n",
    "                inad_pot_total += paramValor[(g, e, p)] * paramInadimplencia[(g, e, p)]\n",
    "                if value(model.politica[(g, e, p)].value) > 0.99:\n",
    "                    #print(\"--- Política ativa para [Grupo de Risco \", GrupoRisco[g-1], \"][Entrada \", Entrada[e-1], \"][Parcela \", Parcelas[p-1], \"]\")\n",
    "                    prod_final += paramValor[(g, e, p)]\n",
    "                    inad_final += paramValor[(g, e, p)] * paramInadimplencia[(g, e, p)]\n",
    "                    minEntrada = Entrada[e-1]\n",
    "            politica[g][p] = minEntrada\n",
    "\n",
    "    \n",
    "    \n",
    "    return prod_final, inad_final / prod_final, prod_final / prod_pot_total\n"
   ]
  },
  {
   "cell_type": "code",
   "execution_count": 68,
   "id": "5c1d3c5e",
   "metadata": {},
   "outputs": [
    {
     "data": {
      "text/plain": [
       "[0.01, 0.02, 0.03, 0.04, 0.05, 0.06, 0.07, 0.08, 0.09, 0.1, 0.11, 0.12]"
      ]
     },
     "execution_count": 68,
     "metadata": {},
     "output_type": "execute_result"
    }
   ],
   "source": [
    "apetitesRisco = [round(i*0.01 + 0.01, 2) for i in range(12)]\n",
    "apetitesRisco"
   ]
  },
  {
   "cell_type": "code",
   "execution_count": 69,
   "id": "fd6e7870",
   "metadata": {},
   "outputs": [],
   "source": [
    "taxaAprovacao = {}\n",
    "valorAprovado = {}\n",
    "inadAprovado = {}\n",
    "\n",
    "for apetiteRisco in apetitesRisco:\n",
    "    valorAprovado[apetiteRisco], inadAprovado[apetiteRisco], taxaAprovacao[apetiteRisco] = modeloOtimizacaoPoliticaCredito(apetiteRisco)"
   ]
  },
  {
   "cell_type": "code",
   "execution_count": 61,
   "id": "b4da91f4",
   "metadata": {},
   "outputs": [
    {
     "data": {
      "text/plain": [
       "{0.01: 310161,\n",
       " 0.02: 915166,\n",
       " 0.03: 1438109,\n",
       " 0.04: 2026896,\n",
       " 0.05: 2420855,\n",
       " 0.06: 2777757,\n",
       " 0.07: 3061122,\n",
       " 0.08: 3311097,\n",
       " 0.09: 3496876,\n",
       " 0.1: 3681122,\n",
       " 0.11: 3826054,\n",
       " 0.12: 3848176}"
      ]
     },
     "execution_count": 61,
     "metadata": {},
     "output_type": "execute_result"
    }
   ],
   "source": [
    "valorAprovado"
   ]
  },
  {
   "cell_type": "code",
   "execution_count": 62,
   "id": "b863f972",
   "metadata": {},
   "outputs": [
    {
     "data": {
      "text/plain": [
       "{0.01: 0.00994342688061368,\n",
       " 0.02: 0.019938775254354862,\n",
       " 0.03: 0.029967973502005443,\n",
       " 0.04: 0.039594854194452855,\n",
       " 0.05: 0.049728241526803885,\n",
       " 0.06: 0.05994770889588339,\n",
       " 0.07: 0.06977936394263934,\n",
       " 0.08: 0.0798011113639766,\n",
       " 0.09: 0.08993242731138834,\n",
       " 0.1: 0.09845832515690031,\n",
       " 0.11: 0.10669223520631715,\n",
       " 0.12: 0.11178511253616154}"
      ]
     },
     "execution_count": 62,
     "metadata": {},
     "output_type": "execute_result"
    }
   ],
   "source": [
    "inadAprovado"
   ]
  },
  {
   "cell_type": "code",
   "execution_count": 63,
   "id": "74136a79",
   "metadata": {},
   "outputs": [
    {
     "data": {
      "text/plain": [
       "{0.01: 0.08059948401528412,\n",
       " 0.02: 0.23781812474273525,\n",
       " 0.03: 0.3737118572539302,\n",
       " 0.04: 0.5267160337780808,\n",
       " 0.05: 0.6290915488272886,\n",
       " 0.06: 0.7218373068175676,\n",
       " 0.07: 0.7954734918569213,\n",
       " 0.08: 0.8604328388306564,\n",
       " 0.09: 0.9087099966321707,\n",
       " 0.1: 0.9565887838809868,\n",
       " 0.11: 0.9942513024352316,\n",
       " 0.12: 1.0}"
      ]
     },
     "execution_count": 63,
     "metadata": {},
     "output_type": "execute_result"
    }
   ],
   "source": [
    "taxaAprovacao"
   ]
  }
 ],
 "metadata": {
  "kernelspec": {
   "display_name": "Python 3 (ipykernel)",
   "language": "python",
   "name": "python3"
  },
  "language_info": {
   "codemirror_mode": {
    "name": "ipython",
    "version": 3
   },
   "file_extension": ".py",
   "mimetype": "text/x-python",
   "name": "python",
   "nbconvert_exporter": "python",
   "pygments_lexer": "ipython3",
   "version": "3.10.0"
  }
 },
 "nbformat": 4,
 "nbformat_minor": 5
}
