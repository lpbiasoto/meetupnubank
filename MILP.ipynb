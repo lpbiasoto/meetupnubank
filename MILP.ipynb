{
 "cells": [
  {
   "cell_type": "markdown",
   "id": "8121ece4",
   "metadata": {},
   "source": [
    "# ---- Nubank DS & ML Meetup #82 ----"
   ]
  },
  {
   "cell_type": "markdown",
   "id": "7e2ea719",
   "metadata": {},
   "source": [
    "# Modelos de Otimização: Programação Matemática na Prática"
   ]
  },
  {
   "cell_type": "markdown",
   "id": "1a109bcd",
   "metadata": {},
   "source": [
    "# 1ª Parte: Passo-a-passo da criação de um modelo de otimização"
   ]
  },
  {
   "cell_type": "code",
   "execution_count": 1,
   "id": "de418de8",
   "metadata": {},
   "outputs": [],
   "source": [
    "from pyomo.environ import *\n",
    "import pandas as pd\n",
    "import matplotlib.pyplot as plt\n",
    "from IPython.display import Image, display"
   ]
  },
  {
   "cell_type": "markdown",
   "id": "27f908fc",
   "metadata": {},
   "source": [
    "## 1. Importando os dados"
   ]
  },
  {
   "cell_type": "markdown",
   "id": "bf1174cd",
   "metadata": {},
   "source": [
    "Como vimos, a política de Entrada Mínima é desenhada nas dimensões de Grupo de Risco, Parcela e Entrada. Portanto, vamos definir um conjunto para cada uma delas, discretizando nossos dados em faixas."
   ]
  },
  {
   "cell_type": "markdown",
   "id": "e348c3b1",
   "metadata": {},
   "source": [
    "Para este case, os dados aqui apresentados são fictícios, gerados randomicamente apenas para exemplo deste exercício. Na prática, porém, pode-se trazer os dados de propostas e de inadimplência dos últimos 6 meses, agregados nas faixas que desejamos construir a política (Grupo de Risco, Entrada, Parcela)."
   ]
  },
  {
   "cell_type": "code",
   "execution_count": 2,
   "id": "21a5f705",
   "metadata": {
    "scrolled": false
   },
   "outputs": [
    {
     "data": {
      "text/html": [
       "<div>\n",
       "<style scoped>\n",
       "    .dataframe tbody tr th:only-of-type {\n",
       "        vertical-align: middle;\n",
       "    }\n",
       "\n",
       "    .dataframe tbody tr th {\n",
       "        vertical-align: top;\n",
       "    }\n",
       "\n",
       "    .dataframe thead th {\n",
       "        text-align: right;\n",
       "    }\n",
       "</style>\n",
       "<table border=\"1\" class=\"dataframe\">\n",
       "  <thead>\n",
       "    <tr style=\"text-align: right;\">\n",
       "      <th></th>\n",
       "      <th>GR</th>\n",
       "      <th>Entrada</th>\n",
       "      <th>Parcela</th>\n",
       "      <th>Valor_Proposta</th>\n",
       "      <th>Inadimplencia</th>\n",
       "    </tr>\n",
       "  </thead>\n",
       "  <tbody>\n",
       "    <tr>\n",
       "      <th>0</th>\n",
       "      <td>A</td>\n",
       "      <td>50</td>\n",
       "      <td>12</td>\n",
       "      <td>42071</td>\n",
       "      <td>0.001767</td>\n",
       "    </tr>\n",
       "    <tr>\n",
       "      <th>1</th>\n",
       "      <td>A</td>\n",
       "      <td>50</td>\n",
       "      <td>24</td>\n",
       "      <td>39829</td>\n",
       "      <td>0.005357</td>\n",
       "    </tr>\n",
       "    <tr>\n",
       "      <th>2</th>\n",
       "      <td>A</td>\n",
       "      <td>50</td>\n",
       "      <td>36</td>\n",
       "      <td>24569</td>\n",
       "      <td>0.019939</td>\n",
       "    </tr>\n",
       "    <tr>\n",
       "      <th>3</th>\n",
       "      <td>A</td>\n",
       "      <td>50</td>\n",
       "      <td>48</td>\n",
       "      <td>36311</td>\n",
       "      <td>0.022628</td>\n",
       "    </tr>\n",
       "    <tr>\n",
       "      <th>4</th>\n",
       "      <td>A</td>\n",
       "      <td>50</td>\n",
       "      <td>60</td>\n",
       "      <td>43397</td>\n",
       "      <td>0.041957</td>\n",
       "    </tr>\n",
       "    <tr>\n",
       "      <th>...</th>\n",
       "      <td>...</td>\n",
       "      <td>...</td>\n",
       "      <td>...</td>\n",
       "      <td>...</td>\n",
       "      <td>...</td>\n",
       "    </tr>\n",
       "    <tr>\n",
       "      <th>120</th>\n",
       "      <td>E</td>\n",
       "      <td>10</td>\n",
       "      <td>12</td>\n",
       "      <td>22814</td>\n",
       "      <td>0.174626</td>\n",
       "    </tr>\n",
       "    <tr>\n",
       "      <th>121</th>\n",
       "      <td>E</td>\n",
       "      <td>10</td>\n",
       "      <td>24</td>\n",
       "      <td>33351</td>\n",
       "      <td>0.125463</td>\n",
       "    </tr>\n",
       "    <tr>\n",
       "      <th>122</th>\n",
       "      <td>E</td>\n",
       "      <td>10</td>\n",
       "      <td>36</td>\n",
       "      <td>36179</td>\n",
       "      <td>0.304202</td>\n",
       "    </tr>\n",
       "    <tr>\n",
       "      <th>123</th>\n",
       "      <td>E</td>\n",
       "      <td>10</td>\n",
       "      <td>48</td>\n",
       "      <td>49671</td>\n",
       "      <td>0.126034</td>\n",
       "    </tr>\n",
       "    <tr>\n",
       "      <th>124</th>\n",
       "      <td>E</td>\n",
       "      <td>10</td>\n",
       "      <td>60</td>\n",
       "      <td>22122</td>\n",
       "      <td>0.992611</td>\n",
       "    </tr>\n",
       "  </tbody>\n",
       "</table>\n",
       "<p>125 rows × 5 columns</p>\n",
       "</div>"
      ],
      "text/plain": [
       "    GR  Entrada  Parcela  Valor_Proposta  Inadimplencia\n",
       "0    A       50       12           42071       0.001767\n",
       "1    A       50       24           39829       0.005357\n",
       "2    A       50       36           24569       0.019939\n",
       "3    A       50       48           36311       0.022628\n",
       "4    A       50       60           43397       0.041957\n",
       "..  ..      ...      ...             ...            ...\n",
       "120  E       10       12           22814       0.174626\n",
       "121  E       10       24           33351       0.125463\n",
       "122  E       10       36           36179       0.304202\n",
       "123  E       10       48           49671       0.126034\n",
       "124  E       10       60           22122       0.992611\n",
       "\n",
       "[125 rows x 5 columns]"
      ]
     },
     "execution_count": 2,
     "metadata": {},
     "output_type": "execute_result"
    }
   ],
   "source": [
    "dados = pd.read_csv(\"dados.csv\", delimiter = \";\", decimal = \",\")\n",
    "dados"
   ]
  },
  {
   "cell_type": "code",
   "execution_count": 3,
   "id": "bc242895",
   "metadata": {
    "scrolled": true
   },
   "outputs": [
    {
     "data": {
      "text/html": [
       "<div>\n",
       "<style scoped>\n",
       "    .dataframe tbody tr th:only-of-type {\n",
       "        vertical-align: middle;\n",
       "    }\n",
       "\n",
       "    .dataframe tbody tr th {\n",
       "        vertical-align: top;\n",
       "    }\n",
       "\n",
       "    .dataframe thead th {\n",
       "        text-align: right;\n",
       "    }\n",
       "</style>\n",
       "<table border=\"1\" class=\"dataframe\">\n",
       "  <thead>\n",
       "    <tr style=\"text-align: right;\">\n",
       "      <th></th>\n",
       "      <th>Valor_Proposta</th>\n",
       "      <th>Inadimplencia_Pond</th>\n",
       "    </tr>\n",
       "    <tr>\n",
       "      <th>GR</th>\n",
       "      <th></th>\n",
       "      <th></th>\n",
       "    </tr>\n",
       "  </thead>\n",
       "  <tbody>\n",
       "    <tr>\n",
       "      <th>A</th>\n",
       "      <td>851532</td>\n",
       "      <td>0.041152</td>\n",
       "    </tr>\n",
       "    <tr>\n",
       "      <th>B</th>\n",
       "      <td>680611</td>\n",
       "      <td>0.073340</td>\n",
       "    </tr>\n",
       "    <tr>\n",
       "      <th>C</th>\n",
       "      <td>778751</td>\n",
       "      <td>0.124503</td>\n",
       "    </tr>\n",
       "    <tr>\n",
       "      <th>D</th>\n",
       "      <td>797616</td>\n",
       "      <td>0.158645</td>\n",
       "    </tr>\n",
       "    <tr>\n",
       "      <th>E</th>\n",
       "      <td>739666</td>\n",
       "      <td>0.164556</td>\n",
       "    </tr>\n",
       "  </tbody>\n",
       "</table>\n",
       "</div>"
      ],
      "text/plain": [
       "    Valor_Proposta  Inadimplencia_Pond\n",
       "GR                                    \n",
       "A           851532            0.041152\n",
       "B           680611            0.073340\n",
       "C           778751            0.124503\n",
       "D           797616            0.158645\n",
       "E           739666            0.164556"
      ]
     },
     "execution_count": 3,
     "metadata": {},
     "output_type": "execute_result"
    }
   ],
   "source": [
    "dados[\"Valor_Inad\"] = dados.Valor_Proposta*dados.Inadimplencia\n",
    "dados_grouped_GR = dados.groupby(\"GR\").agg({\"Valor_Proposta\":sum, \"Valor_Inad\":sum})\n",
    "dados_grouped_GR[\"Inadimplencia_Pond\"] = dados_grouped_GR.Valor_Inad/dados_grouped_GR.Valor_Proposta\n",
    "dados_grouped_GR[[\"Valor_Proposta\", \"Inadimplencia_Pond\"]]"
   ]
  },
  {
   "cell_type": "code",
   "execution_count": 4,
   "id": "17b7a6db",
   "metadata": {},
   "outputs": [
    {
     "data": {
      "image/png": "[encoded data removed]",
      "text/plain": [
       "<Figure size 432x288 with 1 Axes>"
      ]
     },
     "metadata": {
      "needs_background": "light"
     },
     "output_type": "display_data"
    }
   ],
   "source": [
    "x = dados_grouped_GR.index\n",
    "y = dados_grouped_GR[\"Inadimplencia_Pond\"]\n",
    "\n",
    "plt.plot(x, y, 'o-', label='Data')\n",
    "plt.xlabel('Grupo de Risco')\n",
    "plt.ylabel('Inad. Ponderada')\n",
    "\n",
    "plt.show()"
   ]
  },
  {
   "cell_type": "code",
   "execution_count": 5,
   "id": "9a7ae05d",
   "metadata": {
    "scrolled": true
   },
   "outputs": [
    {
     "data": {
      "text/html": [
       "<div>\n",
       "<style scoped>\n",
       "    .dataframe tbody tr th:only-of-type {\n",
       "        vertical-align: middle;\n",
       "    }\n",
       "\n",
       "    .dataframe tbody tr th {\n",
       "        vertical-align: top;\n",
       "    }\n",
       "\n",
       "    .dataframe thead th {\n",
       "        text-align: right;\n",
       "    }\n",
       "</style>\n",
       "<table border=\"1\" class=\"dataframe\">\n",
       "  <thead>\n",
       "    <tr style=\"text-align: right;\">\n",
       "      <th></th>\n",
       "      <th>Valor_Proposta</th>\n",
       "      <th>Inadimplencia_Pond</th>\n",
       "    </tr>\n",
       "    <tr>\n",
       "      <th>Parcela</th>\n",
       "      <th></th>\n",
       "      <th></th>\n",
       "    </tr>\n",
       "  </thead>\n",
       "  <tbody>\n",
       "    <tr>\n",
       "      <th>12</th>\n",
       "      <td>732942</td>\n",
       "      <td>0.039276</td>\n",
       "    </tr>\n",
       "    <tr>\n",
       "      <th>24</th>\n",
       "      <td>737308</td>\n",
       "      <td>0.084950</td>\n",
       "    </tr>\n",
       "    <tr>\n",
       "      <th>36</th>\n",
       "      <td>752792</td>\n",
       "      <td>0.136798</td>\n",
       "    </tr>\n",
       "    <tr>\n",
       "      <th>48</th>\n",
       "      <td>881559</td>\n",
       "      <td>0.137001</td>\n",
       "    </tr>\n",
       "    <tr>\n",
       "      <th>60</th>\n",
       "      <td>743575</td>\n",
       "      <td>0.154648</td>\n",
       "    </tr>\n",
       "  </tbody>\n",
       "</table>\n",
       "</div>"
      ],
      "text/plain": [
       "         Valor_Proposta  Inadimplencia_Pond\n",
       "Parcela                                    \n",
       "12               732942            0.039276\n",
       "24               737308            0.084950\n",
       "36               752792            0.136798\n",
       "48               881559            0.137001\n",
       "60               743575            0.154648"
      ]
     },
     "execution_count": 5,
     "metadata": {},
     "output_type": "execute_result"
    }
   ],
   "source": [
    "dados_grouped_Parcela = dados.groupby(\"Parcela\").agg({\"Valor_Proposta\":sum, \"Valor_Inad\":sum})\n",
    "dados_grouped_Parcela[\"Inadimplencia_Pond\"] = dados_grouped_Parcela.Valor_Inad/dados_grouped_Parcela.Valor_Proposta\n",
    "dados_grouped_Parcela[[\"Valor_Proposta\", \"Inadimplencia_Pond\"]]"
   ]
  },
  {
   "cell_type": "code",
   "execution_count": 6,
   "id": "f612841b",
   "metadata": {},
   "outputs": [
    {
     "data": {
      "image/png": "[encoded data removed]",
      "text/plain": [
       "<Figure size 432x288 with 1 Axes>"
      ]
     },
     "metadata": {
      "needs_background": "light"
     },
     "output_type": "display_data"
    }
   ],
   "source": [
    "x = dados_grouped_Parcela.index\n",
    "y = dados_grouped_Parcela[\"Inadimplencia_Pond\"]\n",
    "\n",
    "plt.plot(x, y, 'o-', label='Data')\n",
    "plt.xlabel('Faixas de Parcela')\n",
    "plt.ylabel('Inad. Ponderada')\n",
    "\n",
    "plt.show()"
   ]
  },
  {
   "cell_type": "code",
   "execution_count": 7,
   "id": "dd30bf12",
   "metadata": {},
   "outputs": [
    {
     "data": {
      "text/html": [
       "<div>\n",
       "<style scoped>\n",
       "    .dataframe tbody tr th:only-of-type {\n",
       "        vertical-align: middle;\n",
       "    }\n",
       "\n",
       "    .dataframe tbody tr th {\n",
       "        vertical-align: top;\n",
       "    }\n",
       "\n",
       "    .dataframe thead th {\n",
       "        text-align: right;\n",
       "    }\n",
       "</style>\n",
       "<table border=\"1\" class=\"dataframe\">\n",
       "  <thead>\n",
       "    <tr style=\"text-align: right;\">\n",
       "      <th></th>\n",
       "      <th>Valor_Proposta</th>\n",
       "      <th>Inadimplencia_Pond</th>\n",
       "    </tr>\n",
       "    <tr>\n",
       "      <th>Entrada</th>\n",
       "      <th></th>\n",
       "      <th></th>\n",
       "    </tr>\n",
       "  </thead>\n",
       "  <tbody>\n",
       "    <tr>\n",
       "      <th>10</th>\n",
       "      <td>744431</td>\n",
       "      <td>0.191257</td>\n",
       "    </tr>\n",
       "    <tr>\n",
       "      <th>20</th>\n",
       "      <td>752923</td>\n",
       "      <td>0.156762</td>\n",
       "    </tr>\n",
       "    <tr>\n",
       "      <th>30</th>\n",
       "      <td>755047</td>\n",
       "      <td>0.107978</td>\n",
       "    </tr>\n",
       "    <tr>\n",
       "      <th>40</th>\n",
       "      <td>849105</td>\n",
       "      <td>0.071151</td>\n",
       "    </tr>\n",
       "    <tr>\n",
       "      <th>50</th>\n",
       "      <td>746670</td>\n",
       "      <td>0.037255</td>\n",
       "    </tr>\n",
       "  </tbody>\n",
       "</table>\n",
       "</div>"
      ],
      "text/plain": [
       "         Valor_Proposta  Inadimplencia_Pond\n",
       "Entrada                                    \n",
       "10               744431            0.191257\n",
       "20               752923            0.156762\n",
       "30               755047            0.107978\n",
       "40               849105            0.071151\n",
       "50               746670            0.037255"
      ]
     },
     "execution_count": 7,
     "metadata": {},
     "output_type": "execute_result"
    }
   ],
   "source": [
    "dados_grouped_Entrada = dados.groupby(\"Entrada\").agg({\"Valor_Proposta\":sum, \"Valor_Inad\":sum})\n",
    "dados_grouped_Entrada[\"Inadimplencia_Pond\"] = dados_grouped_Entrada.Valor_Inad/dados_grouped_Entrada.Valor_Proposta\n",
    "dados_grouped_Entrada[[\"Valor_Proposta\", \"Inadimplencia_Pond\"]]"
   ]
  },
  {
   "cell_type": "code",
   "execution_count": 8,
   "id": "49e532c1",
   "metadata": {},
   "outputs": [
    {
     "data": {
      "image/png": "[encoded data removed]",
      "text/plain": [
       "<Figure size 432x288 with 1 Axes>"
      ]
     },
     "metadata": {
      "needs_background": "light"
     },
     "output_type": "display_data"
    }
   ],
   "source": [
    "x = dados_grouped_Entrada.index\n",
    "y = dados_grouped_Entrada[\"Inadimplencia_Pond\"]\n",
    "\n",
    "plt.plot(x, y, 'o-', label='Data')\n",
    "plt.xlabel('Faixas de Entrada')\n",
    "plt.ylabel('Inad. Ponderada')\n",
    "\n",
    "plt.show()"
   ]
  },
  {
   "cell_type": "code",
   "execution_count": 9,
   "id": "c4759ac4",
   "metadata": {},
   "outputs": [
    {
     "name": "stdout",
     "output_type": "stream",
     "text": [
      "Público Total:\n",
      "R$ Propostas:  3848176\n",
      "Inad. Ponderada:  11.2 %\n"
     ]
    }
   ],
   "source": [
    "dados_grouped = dados[\"Valor_Proposta\"].sum(), dados[\"Valor_Inad\"].sum()\n",
    "Inadimplencia_Pond = dados_grouped[1]/dados_grouped[0]\n",
    "print(\"Público Total:\")\n",
    "print(\"R$ Propostas: \", dados_grouped[0])\n",
    "print(\"Inad. Ponderada: \", round(Inadimplencia_Pond*100,1), \"%\")"
   ]
  },
  {
   "cell_type": "markdown",
   "id": "ec3e5d92",
   "metadata": {},
   "source": [
    "### 1.1. Definindo os conjuntos de dados"
   ]
  },
  {
   "cell_type": "markdown",
   "id": "16ebaa8e",
   "metadata": {},
   "source": [
    "Grupo de Risco:"
   ]
  },
  {
   "cell_type": "code",
   "execution_count": 10,
   "id": "fc00ef19",
   "metadata": {},
   "outputs": [
    {
     "data": {
      "text/plain": [
       "array(['A', 'B', 'C', 'D', 'E'], dtype=object)"
      ]
     },
     "execution_count": 10,
     "metadata": {},
     "output_type": "execute_result"
    }
   ],
   "source": [
    "dados[\"GR\"].unique()"
   ]
  },
  {
   "cell_type": "markdown",
   "id": "1b4ad293",
   "metadata": {},
   "source": [
    "Parcelas:"
   ]
  },
  {
   "cell_type": "code",
   "execution_count": 11,
   "id": "a1a7b974",
   "metadata": {},
   "outputs": [
    {
     "data": {
      "text/plain": [
       "array([12, 24, 36, 48, 60], dtype=int64)"
      ]
     },
     "execution_count": 11,
     "metadata": {},
     "output_type": "execute_result"
    }
   ],
   "source": [
    "dados[\"Parcela\"].unique()"
   ]
  },
  {
   "cell_type": "markdown",
   "id": "260b5c2c",
   "metadata": {},
   "source": [
    "Entrada:"
   ]
  },
  {
   "cell_type": "code",
   "execution_count": 12,
   "id": "0f05425d",
   "metadata": {},
   "outputs": [
    {
     "data": {
      "text/plain": [
       "array([50, 40, 30, 20, 10], dtype=int64)"
      ]
     },
     "execution_count": 12,
     "metadata": {},
     "output_type": "execute_result"
    }
   ],
   "source": [
    "dados[\"Entrada\"].unique()"
   ]
  },
  {
   "cell_type": "markdown",
   "id": "ff1ca8fd",
   "metadata": {},
   "source": [
    "É importante manter a ordem dos conjuntos do menor risco para o maior risco, de forma que, conforme o índice do array cresce, o risco cresce também.\n",
    "\n",
    "Vamos utilizar índices, e não os valores originais das faixas dos conjuntos, no nosso modelo de otimização. Em breve vamos entender o porquê."
   ]
  },
  {
   "cell_type": "code",
   "execution_count": 13,
   "id": "192b73aa",
   "metadata": {},
   "outputs": [],
   "source": [
    "GrupoRisco = dados[\"GR\"].unique() # array(['A', 'B', 'C', 'D', 'E'], dtype=object)\n",
    "Parcelas = dados[\"Parcela\"].unique() # array([12, 24, 36, 48, 60], dtype=int64)\n",
    "Entrada = dados[\"Entrada\"].unique() # array([50, 40, 30, 20, 10], dtype=int64)\n",
    "\n",
    "#listas com os índices de cada conjunto\n",
    "listGrupoRisco = [i+1 for i in range(len(GrupoRisco))] \n",
    "listParcelas = [i+1 for i in range(len(Parcelas))]\n",
    "listEntrada = [i+1 for i in range(len(Entrada))]\n",
    "\n",
    "#dicionários com o de-para de índice para faixa de cada conjunto\n",
    "deParaGrupoRisco = {GrupoRisco[i]:i+1 for i in range(len(GrupoRisco))}\n",
    "deParaParcelas = {Parcelas[i]:i+1 for i in range(len(Parcelas))}\n",
    "deParaEntrada = {Entrada[i]:i+1 for i in range(len(Entrada))}\n",
    "\n",
    "#set do domínio da combinação de Grupos de Risco, Parcelas e Entradas\n",
    "set_GxPxE = {\n",
    "    (g, p, e)\n",
    "    for g in listGrupoRisco\n",
    "    for p in listParcelas\n",
    "    for e in listEntrada\n",
    "}"
   ]
  },
  {
   "cell_type": "code",
   "execution_count": 14,
   "id": "b6971a32",
   "metadata": {},
   "outputs": [
    {
     "name": "stdout",
     "output_type": "stream",
     "text": [
      "[1, 2, 3, 4, 5]\n"
     ]
    }
   ],
   "source": [
    "print(listGrupoRisco)"
   ]
  },
  {
   "cell_type": "code",
   "execution_count": 15,
   "id": "ebc16668",
   "metadata": {},
   "outputs": [
    {
     "name": "stdout",
     "output_type": "stream",
     "text": [
      "[1, 2, 3, 4, 5]\n"
     ]
    }
   ],
   "source": [
    "print(listParcelas)"
   ]
  },
  {
   "cell_type": "code",
   "execution_count": 16,
   "id": "05e062db",
   "metadata": {},
   "outputs": [
    {
     "name": "stdout",
     "output_type": "stream",
     "text": [
      "[1, 2, 3, 4, 5]\n"
     ]
    }
   ],
   "source": [
    "print(listEntrada)"
   ]
  },
  {
   "cell_type": "code",
   "execution_count": 17,
   "id": "bc3a7fdf",
   "metadata": {},
   "outputs": [
    {
     "name": "stdout",
     "output_type": "stream",
     "text": [
      "{'A': 1, 'B': 2, 'C': 3, 'D': 4, 'E': 5}\n"
     ]
    }
   ],
   "source": [
    "print(deParaGrupoRisco)"
   ]
  },
  {
   "cell_type": "code",
   "execution_count": 18,
   "id": "2dc1003f",
   "metadata": {},
   "outputs": [
    {
     "name": "stdout",
     "output_type": "stream",
     "text": [
      "{12: 1, 24: 2, 36: 3, 48: 4, 60: 5}\n"
     ]
    }
   ],
   "source": [
    "print(deParaParcelas)"
   ]
  },
  {
   "cell_type": "code",
   "execution_count": 19,
   "id": "563f65e5",
   "metadata": {},
   "outputs": [
    {
     "name": "stdout",
     "output_type": "stream",
     "text": [
      "{50: 1, 40: 2, 30: 3, 20: 4, 10: 5}\n"
     ]
    }
   ],
   "source": [
    "print(deParaEntrada)"
   ]
  },
  {
   "cell_type": "code",
   "execution_count": 20,
   "id": "0a9f8007",
   "metadata": {
    "scrolled": true
   },
   "outputs": [
    {
     "name": "stdout",
     "output_type": "stream",
     "text": [
      "{(5, 3, 3), (5, 4, 2), (2, 2, 5), (3, 2, 1), (5, 2, 4), (5, 5, 3), (3, 1, 5), (3, 3, 2), (4, 1, 2), (2, 4, 5), (5, 3, 5), (5, 4, 4), (3, 5, 2), (4, 4, 3), (1, 3, 2), (5, 5, 5), (3, 3, 4), (4, 1, 4), (4, 3, 1), (1, 1, 2), (5, 1, 1), (1, 5, 2), (3, 5, 4), (4, 2, 2), (4, 4, 5), (1, 3, 4), (1, 4, 3), (3, 4, 5), (1, 1, 4), (5, 1, 3), (1, 5, 4), (2, 2, 2), (4, 2, 4), (2, 5, 4), (5, 2, 1), (3, 1, 2), (1, 4, 5), (2, 4, 2), (5, 1, 5), (5, 3, 2), (5, 4, 1), (2, 2, 4), (5, 2, 3), (1, 2, 1), (3, 1, 4), (3, 3, 1), (3, 2, 3), (5, 4, 3), (3, 5, 1), (2, 1, 1), (4, 4, 2), (4, 5, 1), (5, 2, 5), (1, 3, 1), (1, 2, 3), (3, 3, 3), (3, 2, 5), (3, 4, 2), (2, 3, 1), (4, 3, 3), (5, 4, 5), (1, 5, 1), (3, 5, 3), (2, 1, 3), (2, 5, 1), (4, 4, 4), (4, 5, 3), (1, 3, 3), (1, 2, 5), (1, 4, 2), (3, 3, 5), (3, 4, 4), (2, 3, 3), (4, 3, 5), (2, 1, 5), (2, 5, 3), (3, 1, 1), (4, 5, 5), (1, 4, 4), (5, 5, 2), (4, 1, 1), (2, 3, 5), (2, 4, 4), (5, 3, 4), (2, 5, 5), (5, 2, 2), (3, 1, 3), (3, 2, 2), (5, 5, 4), (4, 1, 3), (1, 1, 1), (4, 4, 1), (4, 2, 1), (1, 2, 2), (3, 2, 4), (3, 4, 1), (4, 1, 5), (4, 3, 2), (1, 1, 3), (5, 1, 2), (1, 5, 3), (2, 1, 2), (2, 2, 1), (3, 5, 5), (4, 2, 3), (4, 5, 2), (1, 2, 4), (1, 4, 1), (3, 4, 3), (1, 3, 5), (2, 3, 2), (2, 4, 1), (4, 3, 4), (1, 1, 5), (5, 1, 4), (5, 3, 1), (1, 5, 5), (2, 1, 4), (2, 2, 3), (2, 5, 2), (4, 2, 5), (4, 5, 4), (5, 5, 1), (2, 3, 4), (2, 4, 3)}\n"
     ]
    }
   ],
   "source": [
    "print(set_GxPxE)"
   ]
  },
  {
   "cell_type": "markdown",
   "id": "b3b397c1",
   "metadata": {},
   "source": [
    "### 1.2. Montando os dicionários dos parâmetros Valor Proposta e Inadimplência"
   ]
  },
  {
   "cell_type": "markdown",
   "id": "29341852",
   "metadata": {},
   "source": [
    "Para cada combinação de Grupo de Risco, Parcela e Entrada, eu gero um dicionário para os parâmetros de Valor Proposta e Inadimplência. Estes serão usados na construção das nossas restrições e função objetivo."
   ]
  },
  {
   "cell_type": "code",
   "execution_count": 21,
   "id": "054799d5",
   "metadata": {},
   "outputs": [],
   "source": [
    "paramValor = {}\n",
    "paramInadimplencia = {}\n",
    "for g in GrupoRisco:\n",
    "    for e in Entrada:\n",
    "        for p in Parcelas:\n",
    "            paramValor[(deParaGrupoRisco[g],deParaParcelas[p],deParaEntrada[e])] = dados.loc[(dados.GR==g)&(dados.Entrada==e)&(dados.Parcela==p)].Valor_Proposta.iloc[0]\n",
    "            paramInadimplencia[(deParaGrupoRisco[g],deParaParcelas[p],deParaEntrada[e])] = dados.loc[(dados.GR==g)&(dados.Entrada==e)&(dados.Parcela==p)].Inadimplencia.iloc[0]"
   ]
  },
  {
   "cell_type": "code",
   "execution_count": 22,
   "id": "22c80a20",
   "metadata": {},
   "outputs": [
    {
     "name": "stdout",
     "output_type": "stream",
     "text": [
      "{(1, 1, 1): 42071, (1, 2, 1): 39829, (1, 3, 1): 24569, (1, 4, 1): 36311, (1, 5, 1): 43397, (1, 1, 2): 46950, (1, 2, 2): 16630, (1, 3, 2): 48925, (1, 4, 2): 29789, (1, 5, 2): 43191, (1, 1, 3): 18684, (1, 2, 3): 13276, (1, 3, 3): 25478, (1, 4, 3): 41804, (1, 5, 3): 39673, (1, 1, 4): 10966, (1, 2, 4): 33565, (1, 3, 4): 25257, (1, 4, 4): 36713, (1, 5, 4): 48622, (1, 1, 5): 42046, (1, 2, 5): 49706, (1, 3, 5): 23793, (1, 4, 5): 49303, (1, 5, 5): 20984, (2, 1, 1): 35280, (2, 2, 1): 15277, (2, 3, 1): 34602, (2, 4, 1): 37865, (2, 5, 1): 20164, (2, 1, 2): 14822, (2, 2, 2): 22594, (2, 3, 2): 31169, (2, 4, 2): 47629, (2, 5, 2): 33875, (2, 1, 3): 48124, (2, 2, 3): 35967, (2, 3, 3): 29576, (2, 4, 3): 29177, (2, 5, 3): 16445, (2, 1, 4): 12046, (2, 2, 4): 23512, (2, 3, 4): 39167, (2, 4, 4): 18427, (2, 5, 4): 12836, (2, 1, 5): 25667, (2, 2, 5): 12408, (2, 3, 5): 24061, (2, 4, 5): 38471, (2, 5, 5): 21450, (3, 1, 1): 17978, (3, 2, 1): 43753, (3, 3, 1): 11654, (3, 4, 1): 14162, (3, 5, 1): 44737, (3, 1, 2): 13097, (3, 2, 2): 43422, (3, 3, 2): 49730, (3, 4, 2): 39962, (3, 5, 2): 47389, (3, 1, 3): 10097, (3, 2, 3): 45928, (3, 3, 3): 41895, (3, 4, 3): 24816, (3, 5, 3): 48101, (3, 1, 4): 28804, (3, 2, 4): 38750, (3, 3, 4): 49587, (3, 4, 4): 39597, (3, 5, 4): 19183, (3, 1, 5): 32574, (3, 2, 5): 10177, (3, 3, 5): 32113, (3, 4, 5): 17007, (3, 5, 5): 14238, (4, 1, 1): 48903, (4, 2, 1): 26435, (4, 3, 1): 35097, (4, 4, 1): 35249, (4, 5, 1): 31042, (4, 1, 2): 43021, (4, 2, 2): 33125, (4, 3, 2): 26988, (4, 4, 2): 25136, (4, 5, 2): 19699, (4, 1, 3): 39771, (4, 2, 3): 39343, (4, 3, 3): 24407, (4, 4, 3): 45687, (4, 5, 3): 23611, (4, 1, 4): 38685, (4, 2, 4): 13800, (4, 3, 4): 29403, (4, 4, 4): 24783, (4, 5, 4): 27135, (4, 1, 5): 43152, (4, 2, 5): 11754, (4, 3, 5): 28136, (4, 4, 5): 49354, (4, 5, 5): 33900, (5, 1, 1): 17270, (5, 2, 1): 30703, (5, 3, 1): 13556, (5, 4, 1): 19355, (5, 5, 1): 27411, (5, 1, 2): 38034, (5, 2, 2): 35781, (5, 3, 2): 29475, (5, 4, 2): 44588, (5, 5, 2): 24084, (5, 1, 3): 12928, (5, 2, 3): 22497, (5, 3, 3): 10793, (5, 4, 3): 46194, (5, 5, 3): 20775, (5, 1, 4): 29158, (5, 2, 4): 45725, (5, 3, 4): 27182, (5, 4, 4): 40509, (5, 5, 4): 39511, (5, 1, 5): 22814, (5, 2, 5): 33351, (5, 3, 5): 36179, (5, 4, 5): 49671, (5, 5, 5): 22122}\n"
     ]
    }
   ],
   "source": [
    "print(paramValor)"
   ]
  },
  {
   "cell_type": "code",
   "execution_count": 23,
   "id": "047688ec",
   "metadata": {},
   "outputs": [
    {
     "name": "stdout",
     "output_type": "stream",
     "text": [
      "{(1, 1, 1): 0.0017673392306715, (1, 2, 1): 0.0053569087571939, (1, 3, 1): 0.0199391347158191, (1, 4, 1): 0.0226284911659141, (1, 5, 1): 0.0419568662285264, (1, 1, 2): 0.0135364634597566, (1, 2, 2): 0.023809785044793, (1, 3, 2): 0.0068492579679443, (1, 4, 2): 0.0538053867600576, (1, 5, 2): 0.0576446607547813, (1, 1, 3): 0.0124481208385862, (1, 2, 3): 0.0244494816220188, (1, 3, 3): 0.0227260185911532, (1, 4, 3): 0.0500925881483637, (1, 5, 3): 0.0223469881736233, (1, 1, 4): 0.0277558635932121, (1, 2, 4): 0.0657652415947586, (1, 3, 4): 0.0721962891970292, (1, 4, 4): 0.0569289432503452, (1, 5, 4): 0.0534284715081083, (1, 1, 5): 0.0266060652000219, (1, 2, 5): 0.03283171769991, (1, 3, 5): 0.0499874612310331, (1, 4, 5): 0.164569068191541, (1, 5, 5): 0.0461792098696116, (2, 1, 1): 0.0155282472685121, (2, 2, 1): 0.0104795572911855, (2, 3, 1): 0.0408969708789449, (2, 4, 1): 0.0541397262980803, (2, 5, 1): 0.0140300825791965, (2, 1, 2): 0.0142886934018866, (2, 2, 2): 0.0599013541897389, (2, 3, 2): 0.0924152669983731, (2, 4, 2): 0.0435284659190933, (2, 5, 2): 0.158195358021132, (2, 1, 3): 0.0166731378271793, (2, 2, 3): 0.0682109953141232, (2, 3, 3): 0.0437627580975972, (2, 4, 3): 0.0873551535630092, (2, 5, 3): 0.248473291770819, (2, 1, 4): 0.0607084203185483, (2, 2, 4): 0.0997901062279812, (2, 3, 4): 0.0113190079009841, (2, 4, 4): 0.0171718434200069, (2, 5, 4): 0.112988968063142, (2, 1, 5): 0.0487885067265768, (2, 2, 5): 0.0759227511602546, (2, 3, 5): 0.219930466734345, (2, 4, 5): 0.169709078387022, (2, 5, 5): 0.144273422887972, (3, 1, 1): 0.0030279429299148, (3, 2, 1): 0.0450560530375064, (3, 3, 1): 0.0511956641963993, (3, 4, 1): 0.0725949083856941, (3, 5, 1): 0.0768697375661723, (3, 1, 2): 0.0094478090716793, (3, 2, 2): 0.0055290472444099, (3, 3, 2): 0.099448228449303, (3, 4, 2): 0.168793707199672, (3, 5, 2): 0.116386458128088, (3, 1, 3): 0.0715894031757962, (3, 2, 3): 0.135549730237162, (3, 3, 3): 0.0386928975559332, (3, 4, 3): 0.212786939713371, (3, 5, 3): 0.0927312749941561, (3, 1, 4): 0.0240554937429165, (3, 2, 4): 0.200827059904179, (3, 3, 4): 0.293507603100645, (3, 4, 4): 0.213137391803912, (3, 5, 4): 0.068989097543322, (3, 1, 5): 0.0670492202792684, (3, 2, 5): 0.217351276786601, (3, 3, 5): 0.29558620106267, (3, 4, 5): 0.339889648410016, (3, 5, 5): 0.107204039964914, (4, 1, 1): 0.0144647704888013, (4, 2, 1): 0.0039515495300873, (4, 3, 1): 0.0546920312768691, (4, 4, 1): 0.0617977733514303, (4, 5, 1): 0.130371625478842, (4, 1, 2): 0.0443243103506884, (4, 2, 2): 0.0606083854388793, (4, 3, 2): 0.112210102069263, (4, 4, 2): 0.0751120102466386, (4, 5, 2): 0.0288862073081716, (4, 1, 3): 0.0190504880228687, (4, 2, 3): 0.124345936015823, (4, 3, 3): 0.229186468000861, (4, 4, 3): 0.308467332049712, (4, 5, 3): 0.489512278462347, (4, 1, 4): 0.122181758094398, (4, 2, 4): 0.173954106198297, (4, 3, 4): 0.190353608910932, (4, 4, 4): 0.291398554259162, (4, 5, 4): 0.283154205066925, (4, 1, 5): 0.0812608673516126, (4, 2, 5): 0.0752442770903511, (4, 3, 5): 0.353168921810098, (4, 4, 5): 0.314688439717391, (4, 5, 5): 0.407033295907994, (5, 1, 1): 0.0071202529981177, (5, 2, 1): 0.0163756666217976, (5, 3, 1): 0.121980969368518, (5, 4, 1): 0.068271738725261, (5, 5, 1): 0.0107514970682613, (5, 1, 2): 0.0265014871565106, (5, 2, 2): 0.0938121340541066, (5, 3, 2): 0.24430449083945, (5, 4, 2): 0.033507046943238, (5, 5, 2): 0.126577216293406, (5, 1, 3): 0.0467997792182425, (5, 2, 3): 0.157277246366094, (5, 3, 3): 0.107765239684639, (5, 4, 3): 0.0312036429721553, (5, 5, 3): 0.20574642576284, (5, 1, 4): 0.0608171171472148, (5, 2, 4): 0.225345994579945, (5, 3, 4): 0.328541083106542, (5, 4, 4): 0.341435306064311, (5, 5, 4): 0.214094099721138, (5, 1, 5): 0.174626275681068, (5, 2, 5): 0.125463198399866, (5, 3, 5): 0.304202333254118, (5, 4, 5): 0.126034368083036, (5, 5, 5): 0.992610701513671}\n"
     ]
    }
   ],
   "source": [
    "print(paramInadimplencia)"
   ]
  },
  {
   "cell_type": "markdown",
   "id": "c50f4be4",
   "metadata": {},
   "source": [
    "### 1.3. Definindo o limite de risco (limite máximo de inadimplência do público aprovado)"
   ]
  },
  {
   "cell_type": "code",
   "execution_count": 24,
   "id": "c5a4c3d7",
   "metadata": {},
   "outputs": [],
   "source": [
    "LimiteRisco = 0.04"
   ]
  },
  {
   "cell_type": "markdown",
   "id": "31bae415",
   "metadata": {},
   "source": [
    "## 2. Criando o modelo de otimização (MILP: Mixed-Integer Linear Programming)"
   ]
  },
  {
   "cell_type": "markdown",
   "id": "a18c862b",
   "metadata": {},
   "source": [
    "### 2.1. Instância do modelo, conjuntos e variável de decisão"
   ]
  },
  {
   "cell_type": "code",
   "execution_count": 25,
   "id": "b2dd097b",
   "metadata": {},
   "outputs": [],
   "source": [
    "model = ConcreteModel(name=\"credit\")\n",
    "\n",
    "model.setGrupoRisco = Set(initialize=listGrupoRisco)\n",
    "model.setParcelas = Set(initialize=listParcelas)\n",
    "model.setEntrada = Set(initialize=listEntrada)"
   ]
  },
  {
   "cell_type": "markdown",
   "id": "4b032974",
   "metadata": {},
   "source": [
    "#### Variável de decisão: Política de Crédito"
   ]
  },
  {
   "cell_type": "markdown",
   "id": "f2f71d16",
   "metadata": {},
   "source": [
    "Precisamos de uma variável de decisão que represente a tomada de decisão de abrir ou fechar a política para cada combinação de Grupo de Risco, Parcela e Entrada. Dessa forma, criamos 5 x 5 x 5 = 125 variáveis de decisão binárias, que assumem 1 caso a política esteja aberta ou 0 caso ela esteja fechada."
   ]
  },
  {
   "cell_type": "code",
   "execution_count": 26,
   "id": "f9606348",
   "metadata": {},
   "outputs": [],
   "source": [
    "model.politica = Var(model.setGrupoRisco, model.setParcelas, model.setEntrada, within=Binary, name=\"politica\")"
   ]
  },
  {
   "cell_type": "markdown",
   "id": "0f648c2e",
   "metadata": {},
   "source": [
    "#### Variável auxiliar: Valor Aprovado"
   ]
  },
  {
   "cell_type": "markdown",
   "id": "54c80123",
   "metadata": {},
   "source": [
    "Utilizamos uma variável auxiliar para simplificar a escrita e a obtenção dos resultados no final do modelo. Esta não é obrigatória, mas por questões pedagógicas, estou criando-a para termos um exemplo de variável contínua em Pyomo, além da binária da política que acabamos de definir. "
   ]
  },
  {
   "cell_type": "markdown",
   "id": "34bd25ca",
   "metadata": {},
   "source": [
    "OBS: como o valor dela é sempre positivo, definimos esta no domínio dos reais não-negativos, e associamos a esta um valor máximo (upper bound) igual à soma de todo o valor aprovado das propostas (poderíamos associar aqui, também, o valor de proposta de cada casela para deixar o modelo mais \"apertado\")."
   ]
  },
  {
   "cell_type": "code",
   "execution_count": 27,
   "id": "a9f02178",
   "metadata": {},
   "outputs": [],
   "source": [
    "def vaBounds(model, g, p, e):\n",
    "    #retorna o lower bound e o upper bound para cada combinação de g, p, e\n",
    "    return (0, paramValor[(g, p, e)])"
   ]
  },
  {
   "cell_type": "code",
   "execution_count": 28,
   "id": "4fed59bb",
   "metadata": {},
   "outputs": [],
   "source": [
    "model.valorAprovado = Var(model.setGrupoRisco, model.setParcelas, model.setEntrada, within=NonNegativeReals, bounds=vaBounds, name=\"valor_aprovado\")"
   ]
  },
  {
   "cell_type": "markdown",
   "id": "354653f7",
   "metadata": {},
   "source": [
    "### 2.2. Restrição de definição da variável Valor Aprovado"
   ]
  },
  {
   "cell_type": "code",
   "execution_count": 29,
   "id": "62100a8f",
   "metadata": {},
   "outputs": [],
   "source": [
    "model.defValorAprovado = ConstraintList()\n",
    "\n",
    "for (g, p, e) in set_GxPxE:\n",
    "    model.defValorAprovado.add(\n",
    "        model.valorAprovado[(g, p, e)] == model.politica[(g, p, e)] * paramValor[(g, p, e)]\n",
    "    )"
   ]
  },
  {
   "cell_type": "markdown",
   "id": "10d8e5b3",
   "metadata": {},
   "source": [
    "### 2.3. Restrição de limite de risco (limite máximo de risco do valor aprovado)"
   ]
  },
  {
   "cell_type": "code",
   "execution_count": 30,
   "id": "7b2b372c",
   "metadata": {},
   "outputs": [],
   "source": [
    "def limiteRisco(model):\n",
    "    return quicksum((LimiteRisco - paramInadimplencia[(g,p,e)]) * model.valorAprovado[(g, p, e)]\n",
    "             for (g, p, e) in set_GxPxE) >= 0\n",
    "\n",
    "model.limiteRisco = Constraint(rule = limiteRisco)"
   ]
  },
  {
   "cell_type": "markdown",
   "id": "18a2105f",
   "metadata": {},
   "source": [
    "### 2.4. Restrições de riscos operacionais"
   ]
  },
  {
   "cell_type": "markdown",
   "id": "3c0e0ec1",
   "metadata": {},
   "source": [
    "Lembra da ordenação das faixas e uso dos índices nos conjuntos das variáveis? Aqui incluímos as restrições de risco operacional, no qual a política de maior risco precisa ser igual ou mais fechada do que a de menor risco."
   ]
  },
  {
   "cell_type": "code",
   "execution_count": 31,
   "id": "3cff8bb1",
   "metadata": {},
   "outputs": [
    {
     "data": {
      "image/png": "[encoded data removed]",
      "text/plain": [
       "<IPython.core.display.Image object>"
      ]
     },
     "metadata": {},
     "output_type": "display_data"
    },
    {
     "data": {
      "image/png": "[encoded data removed]",
      "text/plain": [
       "<IPython.core.display.Image object>"
      ]
     },
     "metadata": {},
     "output_type": "display_data"
    }
   ],
   "source": [
    "display(Image(filename='images/newconsts.png'))\n",
    "display(Image(filename='images/newconsts2.png'))"
   ]
  },
  {
   "cell_type": "code",
   "execution_count": 32,
   "id": "70424b6a",
   "metadata": {},
   "outputs": [],
   "source": [
    "model.politicaFechadaGrupoRisco = ConstraintList()\n",
    "\n",
    "for (g, p, e) in set_GxPxE:\n",
    "            if g > 1:\n",
    "                model.politicaFechadaGrupoRisco.add(\n",
    "                    model.politica[(g,p,e)] - model.politica[(g-1,p,e)] <= 0\n",
    "                )\n",
    "\n",
    "                \n",
    "model.politicaFechadaParcelas = ConstraintList()\n",
    "\n",
    "for (g, p, e) in set_GxPxE:\n",
    "            if p > 1:\n",
    "                model.politicaFechadaParcelas.add(\n",
    "                    model.politica[(g,p,e)] - model.politica[(g,p-1,e)] <= 0\n",
    "                )\n",
    "              \n",
    "            \n",
    "model.politicaFechadaEntrada = ConstraintList()\n",
    "\n",
    "for (g, p, e) in set_GxPxE:\n",
    "            if e > 1:\n",
    "                model.politicaFechadaEntrada.add(\n",
    "                    model.politica[(g,p,e)] - model.politica[(g,p,e-1)] <= 0\n",
    "                )"
   ]
  },
  {
   "cell_type": "markdown",
   "id": "3399f3bd",
   "metadata": {},
   "source": [
    "### 2.4. Função objetivo (maximizar o valor aprovado pela política)"
   ]
  },
  {
   "cell_type": "code",
   "execution_count": 33,
   "id": "9ed09fc2",
   "metadata": {},
   "outputs": [],
   "source": [
    "model.Obj = Objective(\n",
    "    expr=sum(model.valorAprovado[(g, p, e)]\n",
    "             for (g, p, e) in set_GxPxE),\n",
    "    sense=maximize\n",
    ")"
   ]
  },
  {
   "cell_type": "markdown",
   "id": "362eee2d",
   "metadata": {},
   "source": [
    "## 3. Escolhendo o solver e resolvendo o modelo"
   ]
  },
  {
   "cell_type": "markdown",
   "id": "b270dbfa",
   "metadata": {},
   "source": [
    "Para utilizar o solver glpk, é preciso inicialmente instalá-lo na sua máquina.\n",
    "https://www.gnu.org/software/glpk/"
   ]
  },
  {
   "cell_type": "code",
   "execution_count": 34,
   "id": "0740a4e1",
   "metadata": {
    "scrolled": false
   },
   "outputs": [
    {
     "name": "stdout",
     "output_type": "stream",
     "text": [
      "\n",
      "Problem: \n",
      "- Name: unknown\n",
      "  Lower bound: 2026896.0\n",
      "  Upper bound: 2026896.0\n",
      "  Number of objectives: 1\n",
      "  Number of constraints: 426\n",
      "  Number of variables: 250\n",
      "  Number of nonzeros: 975\n",
      "  Sense: maximize\n",
      "Solver: \n",
      "- Status: ok\n",
      "  Termination condition: optimal\n",
      "  Statistics: \n",
      "    Branch and bound: \n",
      "      Number of bounded subproblems: 47\n",
      "      Number of created subproblems: 47\n",
      "  Error rc: 0\n",
      "  Time: 0.08809757232666016\n",
      "Solution: \n",
      "- number of solutions: 0\n",
      "  number of solutions displayed: 0\n"
     ]
    }
   ],
   "source": [
    "# model.write('credit.lp')\n",
    "\n",
    "solver = SolverFactory('glpk')\n",
    "\n",
    "results = solver.solve(model)\n",
    "print(results)"
   ]
  },
  {
   "cell_type": "code",
   "execution_count": 35,
   "id": "c09aa8db",
   "metadata": {},
   "outputs": [],
   "source": [
    "# model.pprint()"
   ]
  },
  {
   "cell_type": "markdown",
   "id": "88c527c5",
   "metadata": {},
   "source": [
    "### 3.1. Extraindo a solução das variáveis de decisão"
   ]
  },
  {
   "cell_type": "code",
   "execution_count": 36,
   "id": "d5c87957",
   "metadata": {
    "scrolled": false
   },
   "outputs": [
    {
     "name": "stdout",
     "output_type": "stream",
     "text": [
      "\n",
      "TOTAL APROVADO:  2026896.0\n",
      "------- Política de Entrada Mínima -------\n",
      "Para o Grupo de Risco:  A\n",
      "[ A ][ 12 ]: Entrada Mínima:  10\n",
      "[ A ][ 24 ]: Entrada Mínima:  10\n",
      "[ A ][ 36 ]: Entrada Mínima:  10\n",
      "[ A ][ 48 ]: Entrada Mínima:  20\n",
      "[ A ][ 60 ]: Entrada Mínima:  20\n",
      "Para o Grupo de Risco:  B\n",
      "[ B ][ 12 ]: Entrada Mínima:  10\n",
      "[ B ][ 24 ]: Entrada Mínima:  10\n",
      "[ B ][ 36 ]: Entrada Mínima:  20\n",
      "[ B ][ 48 ]: Entrada Mínima:  20\n",
      "[ B ][ 60 ]: Entrada Mínima:  50\n",
      "Para o Grupo de Risco:  C\n",
      "[ C ][ 12 ]: Entrada Mínima:  10\n",
      "[ C ][ 24 ]: Entrada Mínima:  40\n",
      "[ C ][ 36 ]: Entrada Mínima:  50\n",
      "[ C ][ 48 ]: Entrada Mínima:  50\n",
      "[ C ][ 60 ]: Entrada Mínima:  50\n",
      "Para o Grupo de Risco:  D\n",
      "[ D ][ 12 ]: Entrada Mínima:  30\n",
      "[ D ][ 24 ]: Entrada Mínima:  40\n",
      "[ D ][ 36 ]: Entrada Mínima:  50\n",
      "[ D ][ 48 ]: Entrada Mínima:  50\n",
      "[ D ][ 60 ]: Entrada Mínima:  50\n",
      "Para o Grupo de Risco:  E\n",
      "[ E ][ 12 ]: Entrada Mínima:  30\n",
      "[ E ][ 24 ]: Entrada Mínima:  50\n",
      "[ E ][ 36 ]: Entrada Mínima:  50\n",
      "[ E ][ 48 ]: Entrada Mínima:  50\n",
      "[ E ][ 60 ]: Entrada Mínima:  50\n"
     ]
    }
   ],
   "source": [
    "print(\"\\nTOTAL APROVADO: \", model.Obj())\n",
    "aprov_pot_total = 0\n",
    "inad_pot_total = 0\n",
    "aprov_final = 0\n",
    "inad_final = 0\n",
    "print(\"------- Política de Entrada Mínima -------\")\n",
    "for g in listGrupoRisco:\n",
    "    print(\"Para o Grupo de Risco: \", GrupoRisco[g-1])\n",
    "    for p in listParcelas:\n",
    "        minEntrada = 100\n",
    "        for e in listEntrada:\n",
    "            aprov_pot_total += paramValor[(g, p, e)]\n",
    "            inad_pot_total += paramValor[(g, p, e)] * paramInadimplencia[(g, p, e)]\n",
    "            if value(model.politica[(g, p, e)].value) > 0.99:\n",
    "                aprov_final += model.valorAprovado[(g, p, e)].value\n",
    "                inad_final += model.valorAprovado[(g, p, e)].value * paramInadimplencia[(g, p, e)]\n",
    "                minEntrada = Entrada[e-1]\n",
    "\n",
    "        if minEntrada < 100: print(\"[\", GrupoRisco[g-1],\"][\", Parcelas[p-1], \"]: Entrada Mínima: \",minEntrada)\n",
    "        else: print(\"[\", GrupoRisco[g-1],\"][\", Parcelas[p-1], \"]: Não Opera\")"
   ]
  },
  {
   "cell_type": "markdown",
   "id": "9d3af553",
   "metadata": {},
   "source": [
    "### 3.2. Cálculo dos principais KPIs do cenário"
   ]
  },
  {
   "cell_type": "code",
   "execution_count": 37,
   "id": "5aa037c2",
   "metadata": {},
   "outputs": [
    {
     "name": "stdout",
     "output_type": "stream",
     "text": [
      "Valor das Propostas do Público Total:  3848176\n",
      "% inad. Público Total:  11.18 %\n",
      "Valor Aprovado Final:  2026896.0\n",
      "% inad. Público Final:  3.96 %\n",
      "% Valor Aprovado:  52.67 %\n"
     ]
    }
   ],
   "source": [
    "print(\"Valor das Propostas do Público Total: \", aprov_pot_total)\n",
    "print(\"% inad. Público Total: \", round(inad_pot_total / aprov_pot_total*100, 2),\"%\")\n",
    "print(\"Valor Aprovado Final: \", aprov_final)\n",
    "print(\"% inad. Público Final: \", round(inad_final / aprov_final*100,2),\"%\")\n",
    "print(\"% Valor Aprovado: \", round(aprov_final / aprov_pot_total*100,2),\"%\")"
   ]
  },
  {
   "cell_type": "code",
   "execution_count": 38,
   "id": "bca3abea",
   "metadata": {},
   "outputs": [
    {
     "data": {
      "image/png": "[encoded data removed]",
      "text/plain": [
       "<IPython.core.display.Image object>"
      ]
     },
     "metadata": {},
     "output_type": "display_data"
    }
   ],
   "source": [
    "#display(Image(filename='images/1result.png'))\n",
    "#display(Image(filename='images/2result.png'))\n",
    "display(Image(filename='images/3result.png'))"
   ]
  },
  {
   "cell_type": "markdown",
   "id": "d6168db2",
   "metadata": {},
   "source": [
    "# 2ª Parte: Análise de diferentes cenários e Curva de Pareto"
   ]
  },
  {
   "cell_type": "markdown",
   "id": "14f1f30e",
   "metadata": {},
   "source": [
    "## 1. Função com as etapas acima encapsuladas"
   ]
  },
  {
   "cell_type": "code",
   "execution_count": 39,
   "id": "628bf7e4",
   "metadata": {},
   "outputs": [],
   "source": [
    "def modeloOtimizacaoPoliticaCredito(LimiteRisco):\n",
    "\n",
    "    model = ConcreteModel(name=\"credit\")\n",
    "    model.setGrupoRisco = Set(initialize=listGrupoRisco)\n",
    "    model.setEntrada = Set(initialize=listEntrada)\n",
    "    model.setParcelas = Set(initialize=listParcelas)\n",
    "\n",
    "    model.politica = Var(model.setGrupoRisco, model.setEntrada, model.setParcelas, within=Binary, name=\"politica\")\n",
    "    model.valorAprovado = Var(model.setGrupoRisco, model.setParcelas, model.setEntrada, within=NonNegativeReals, bounds=(0, dados.Valor_Proposta.sum()), name=\"valor_aprovado\")\n",
    "    \n",
    "    model.defValorAprovado = ConstraintList()\n",
    "\n",
    "    for (g, p, e) in set_GxPxE:\n",
    "        model.defValorAprovado.add(\n",
    "            model.valorAprovado[(g, p, e)] == model.politica[(g, p, e)] * paramValor[(g, p, e)]\n",
    "        )\n",
    "        \n",
    "    def limiteRisco(model):\n",
    "        return quicksum((LimiteRisco - paramInadimplencia[(g,p,e)]) * model.valorAprovado[(g, p, e)]\n",
    "                 for (g, p, e) in set_GxPxE) >= 0\n",
    "\n",
    "    model.limiteRisco = Constraint(rule = limiteRisco)\n",
    "\n",
    "    \n",
    "    model.politicaFechadaGrupoRisco = ConstraintList()\n",
    "\n",
    "    for (g, p, e) in set_GxPxE:\n",
    "                if g > 1:\n",
    "                    model.politicaFechadaGrupoRisco.add(\n",
    "                        model.politica[(g,p,e)] - model.politica[(g-1,p,e)] <= 0\n",
    "                    )\n",
    "\n",
    "\n",
    "    model.politicaFechadaParcelas = ConstraintList()\n",
    "\n",
    "    for (g, p, e) in set_GxPxE:\n",
    "                if p > 1:\n",
    "                    model.politicaFechadaParcelas.add(\n",
    "                        model.politica[(g,p,e)] - model.politica[(g,p-1,e)] <= 0\n",
    "                    )\n",
    "\n",
    "\n",
    "    model.politicaFechadaEntrada = ConstraintList()\n",
    "\n",
    "    for (g, p, e) in set_GxPxE:\n",
    "                if e > 1:\n",
    "                    model.politicaFechadaEntrada.add(\n",
    "                        model.politica[(g,p,e)] - model.politica[(g,p,e-1)] <= 0\n",
    "                    )  \n",
    "     \n",
    "    model.Obj = Objective(\n",
    "        expr=sum(model.valorAprovado[(g, p, e)]\n",
    "                 for (g, p, e) in set_GxPxE), sense=maximize\n",
    "    )\n",
    "        \n",
    "    solver = SolverFactory('glpk')\n",
    "\n",
    "    results = solver.solve(model)\n",
    "    \n",
    "    totalAprovado = model.Obj()\n",
    "    \n",
    "    aprov_pot_total = 0\n",
    "    inad_pot_total = 0\n",
    "    aprov_final = 0\n",
    "    inad_final = 0\n",
    "    \n",
    "    for g in listGrupoRisco:\n",
    "\n",
    "        for p in listParcelas:\n",
    "\n",
    "            minEntrada = 100\n",
    "            for e in listEntrada:\n",
    "                aprov_pot_total += paramValor[(g, p, e)]\n",
    "                inad_pot_total += paramValor[(g, p, e)] * paramInadimplencia[(g, p, e)]\n",
    "                if value(model.politica[(g, p, e)].value) > 0.99:\n",
    "                    aprov_final += model.valorAprovado[(g, p, e)].value\n",
    "                    inad_final += model.valorAprovado[(g, p, e)].value * paramInadimplencia[(g, p, e)]\n",
    "                    minEntrada = Entrada[e-1]\n",
    "   \n",
    "    \n",
    "    return aprov_final, inad_final / aprov_final, aprov_final / aprov_pot_total\n"
   ]
  },
  {
   "cell_type": "markdown",
   "id": "81f520d8",
   "metadata": {},
   "source": [
    "## 2. Criando lista com os valores de limites de inadimplência a serem analisados"
   ]
  },
  {
   "cell_type": "code",
   "execution_count": 40,
   "id": "5c1d3c5e",
   "metadata": {},
   "outputs": [
    {
     "data": {
      "text/plain": [
       "[0.01, 0.02, 0.03, 0.04, 0.05, 0.06, 0.07, 0.08, 0.09, 0.1, 0.11, 0.12]"
      ]
     },
     "execution_count": 40,
     "metadata": {},
     "output_type": "execute_result"
    }
   ],
   "source": [
    "limitesRisco = [round(i*0.01 + 0.01, 2) for i in range(12)]\n",
    "limitesRisco"
   ]
  },
  {
   "cell_type": "markdown",
   "id": "815b93d9",
   "metadata": {},
   "source": [
    "## 3. Executando os cenários"
   ]
  },
  {
   "cell_type": "code",
   "execution_count": 41,
   "id": "fd6e7870",
   "metadata": {},
   "outputs": [],
   "source": [
    "taxaAprovacao = {}\n",
    "valorAprovado = {}\n",
    "inadAprovado = {}\n",
    "\n",
    "for limiteRisco in limitesRisco:\n",
    "    valorAprovado[limiteRisco], inadAprovado[limiteRisco], taxaAprovacao[limiteRisco] = modeloOtimizacaoPoliticaCredito(limiteRisco)"
   ]
  },
  {
   "cell_type": "markdown",
   "id": "5fcbafb7",
   "metadata": {},
   "source": [
    "## 4. Análise das Curvas de Pareto para valor aprovado e taxa de aprovação"
   ]
  },
  {
   "cell_type": "code",
   "execution_count": 42,
   "id": "b4da91f4",
   "metadata": {},
   "outputs": [
    {
     "data": {
      "image/png": "[encoded data removed]",
      "text/plain": [
       "<Figure size 432x288 with 1 Axes>"
      ]
     },
     "metadata": {
      "needs_background": "light"
     },
     "output_type": "display_data"
    }
   ],
   "source": [
    "x = valorAprovado.keys()\n",
    "y = valorAprovado.values()\n",
    "\n",
    "plt.plot(x, y, 'o-', label='Data')\n",
    "plt.xlabel('Limite de Risco')\n",
    "plt.ylabel('Valor Aprovado')\n",
    "plt.title('Curva de Pareto para Valor Aprovado')\n",
    "\n",
    "plt.show()"
   ]
  },
  {
   "cell_type": "code",
   "execution_count": 43,
   "id": "11e48f41",
   "metadata": {},
   "outputs": [
    {
     "data": {
      "text/plain": [
       "{0.01: 310161.0,\n",
       " 0.02: 915166.0,\n",
       " 0.03: 1438109.0,\n",
       " 0.04: 2026896.0,\n",
       " 0.05: 2420855.0,\n",
       " 0.06: 2777757.0,\n",
       " 0.07: 3061122.0,\n",
       " 0.08: 3311097.0,\n",
       " 0.09: 3496876.0,\n",
       " 0.1: 3681122.0,\n",
       " 0.11: 3826054.0,\n",
       " 0.12: 3848176.0}"
      ]
     },
     "execution_count": 43,
     "metadata": {},
     "output_type": "execute_result"
    }
   ],
   "source": [
    "valorAprovado"
   ]
  },
  {
   "cell_type": "code",
   "execution_count": 44,
   "id": "74136a79",
   "metadata": {},
   "outputs": [
    {
     "data": {
      "image/png": "[encoded data removed]",
      "text/plain": [
       "<Figure size 432x288 with 1 Axes>"
      ]
     },
     "metadata": {
      "needs_background": "light"
     },
     "output_type": "display_data"
    }
   ],
   "source": [
    "x = taxaAprovacao.keys()\n",
    "y = taxaAprovacao.values()\n",
    "\n",
    "plt.plot(x, y, 'o-', label='Data')\n",
    "plt.xlabel('Limite de Risco')\n",
    "plt.ylabel('Taxa de Aprovação')\n",
    "plt.title('Curva de Pareto para Taxa de Aprovação')\n",
    "\n",
    "plt.show()"
   ]
  },
  {
   "cell_type": "code",
   "execution_count": 45,
   "id": "a60396d4",
   "metadata": {},
   "outputs": [
    {
     "data": {
      "text/plain": [
       "{0.01: 0.08059948401528412,\n",
       " 0.02: 0.23781812474273525,\n",
       " 0.03: 0.3737118572539302,\n",
       " 0.04: 0.5267160337780808,\n",
       " 0.05: 0.6290915488272886,\n",
       " 0.06: 0.7218373068175676,\n",
       " 0.07: 0.7954734918569213,\n",
       " 0.08: 0.8604328388306564,\n",
       " 0.09: 0.9087099966321707,\n",
       " 0.1: 0.9565887838809868,\n",
       " 0.11: 0.9942513024352316,\n",
       " 0.12: 1.0}"
      ]
     },
     "execution_count": 45,
     "metadata": {},
     "output_type": "execute_result"
    }
   ],
   "source": [
    "taxaAprovacao"
   ]
  },
  {
   "cell_type": "code",
   "execution_count": 46,
   "id": "71ec47a4",
   "metadata": {},
   "outputs": [
    {
     "data": {
      "image/png": "[encoded data removed]",
      "text/plain": [
       "<Figure size 432x288 with 1 Axes>"
      ]
     },
     "metadata": {
      "needs_background": "light"
     },
     "output_type": "display_data"
    }
   ],
   "source": [
    "x = inadAprovado.keys()\n",
    "y = inadAprovado.values()\n",
    "\n",
    "plt.plot(x, y, 'o-', label='Data')\n",
    "plt.xlabel('Limite de Risco')\n",
    "plt.ylabel('Inad. Público Aprovado')\n",
    "plt.title('Inad. Máxima Aprovada x Limite')\n",
    "\n",
    "plt.show()"
   ]
  },
  {
   "cell_type": "code",
   "execution_count": 47,
   "id": "b975ca7f",
   "metadata": {},
   "outputs": [
    {
     "data": {
      "text/plain": [
       "{0.01: 0.00994342688061368,\n",
       " 0.02: 0.019938775254354862,\n",
       " 0.03: 0.029967973502005443,\n",
       " 0.04: 0.039594854194452855,\n",
       " 0.05: 0.049728241526803885,\n",
       " 0.06: 0.05994770889588339,\n",
       " 0.07: 0.06977936394263934,\n",
       " 0.08: 0.0798011113639766,\n",
       " 0.09: 0.08993242731138834,\n",
       " 0.1: 0.09845832515690031,\n",
       " 0.11: 0.10669223520631715,\n",
       " 0.12: 0.11178511253616154}"
      ]
     },
     "execution_count": 47,
     "metadata": {},
     "output_type": "execute_result"
    }
   ],
   "source": [
    "inadAprovado"
   ]
  },
  {
   "cell_type": "code",
   "execution_count": null,
   "id": "cdabe762",
   "metadata": {},
   "outputs": [],
   "source": []
  }
 ],
 "metadata": {
  "kernelspec": {
   "display_name": "Python 3 (ipykernel)",
   "language": "python",
   "name": "python3"
  },
  "language_info": {
   "codemirror_mode": {
    "name": "ipython",
    "version": 3
   },
   "file_extension": ".py",
   "mimetype": "text/x-python",
   "name": "python",
   "nbconvert_exporter": "python",
   "pygments_lexer": "ipython3",
   "version": "3.10.4"
  }
 },
 "nbformat": 4,
 "nbformat_minor": 5
}
